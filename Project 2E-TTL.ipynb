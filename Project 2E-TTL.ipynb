{
 "cells": [
  {
   "cell_type": "markdown",
   "metadata": {},
   "source": [
    "### Scientific Question: What gene expression profiles change that result in gastro-esophageal reflux disease?"
   ]
  },
  {
   "cell_type": "markdown",
   "metadata": {},
   "source": [
    "Gastro-esoaphageal reflux disease (GERD) is a chronic digestive disease featuring acid reflux, eosinophilic esophagitic, disruption of tight junction proteins, and cytokines. This disease is divided into two categories---erosive and non-erosive reflux; however, all include symptoms of heartburn and regurgitation (Okimoto et. al 2018, Monkemuller et. al 2012).\n",
    "\n",
    "Tight junction genes (Occludin, Claudin-1,-2, ZO-1,-2) are responsible for encoding tight junction proteins of the esophageal mucosa in order to form an intercellular barrier between epithelial cells for regulation of movement across the epithluem (Anderson et. al 2009). Therefore, it is hypothesized that impairment of these tight junction proteins and lack of gene expression lead to esophageal hypersensitvity to acid and the development of GERDs.\n",
    "\n",
    "Many studies have investigated the strength of association between tight junction genes and GERDs, which are inputted into BMC Gastroenterology (https://bmcgastroenterol.biomedcentral.com/). As stated on their website:\n",
    "\n",
    "\"BMC Gastroenterology is an open access, peer-reviewed journal that considers articles on all aspects of the prevention, diagnosis and management of gastrointestinal and hepatobiliary disorders, as well as related molecular genetics, pathophysiology, and epidemiology.\"\n"
   ]
  },
  {
   "cell_type": "markdown",
   "metadata": {},
   "source": [
    "### Scientific Hypothesis: If tight junction component Claudin-1 gene is overly expressed, gastro-esophageal reflux disease symptoms are more likely to occur."
   ]
  },
  {
   "cell_type": "markdown",
   "metadata": {},
   "source": [
    "To answer this scientific question and test my hypothesis, I researched different genes associated with GERDs from the BMC Gastroenterology website. The paper that caught my eye the most \"Role of Tight Junction Proteins in Gastreoesophageal Reflux Disease\"\n",
    "(https://bmcgastroenterol.biomedcentral.com/articles/10.1186/1471-230X-12-128), whose study investigated the expression pattern of tight junction proteins (Occludin, Claudin-1,-2, ZO-1,-2) via analysis by histopathy, immunohistochemsitry, and quantitative reverse-transcription polymerase chain reaction.\n",
    "\n",
    "Theoretically, I would download the DNA sequences of each test group (ERD, NERD, and Control) and import them here to undergo RNA-seq. However, due to complications preventing me from installing pyrpipe to perform RNA-seq, I manually transferred the data from Table 4 for the expression of tight junction-related components in esophageal mucosa onto my Jupyter Notebook here in order to create my heatmap.\n"
   ]
  },
  {
   "cell_type": "code",
   "execution_count": 19,
   "metadata": {},
   "outputs": [
    {
     "ename": "SyntaxError",
     "evalue": "invalid syntax (<ipython-input-19-f4db4a75dc3a>, line 2)",
     "output_type": "error",
     "traceback": [
      "\u001b[0;36m  File \u001b[0;32m\"<ipython-input-19-f4db4a75dc3a>\"\u001b[0;36m, line \u001b[0;32m2\u001b[0m\n\u001b[0;31m    pip install pyrpipe\u001b[0m\n\u001b[0m        ^\u001b[0m\n\u001b[0;31mSyntaxError\u001b[0m\u001b[0;31m:\u001b[0m invalid syntax\n"
     ]
    }
   ],
   "source": [
    "# Download package\n",
    "pip install pyrpipe"
   ]
  },
  {
   "cell_type": "markdown",
   "metadata": {},
   "source": [
    "### Load the Packages\n",
    "\n",
    "Numpy: Fundamental package for adding support for large, multidimensional arrays and matrics, along with a large collection of high level mathematical functions\n",
    "\n",
    "Pyrpipe: RNA-Seq workflows\n",
    "\n",
    "Pandas: Data manipulation and analysis\n",
    "\n",
    "Seaborn: DATA visualization library based on matplotlib"
   ]
  },
  {
   "cell_type": "code",
   "execution_count": null,
   "metadata": {},
   "outputs": [],
   "source": [
    "# Import all packages needed\n",
    "from pyrpipe import sra, qc, mapping, assembly\n",
    "import seaborn as sns\n",
    "import pandas as pd\n",
    "import numpy as np"
   ]
  },
  {
   "cell_type": "markdown",
   "metadata": {},
   "source": [
    "### Perform Bioinformatics Analyses"
   ]
  },
  {
   "cell_type": "markdown",
   "metadata": {},
   "source": [
    "After loading the necessary packages, we can perform RNA-sequencing. RNA-sequencing is a bioinformatics technique that analyzes the transcriptome of gene expression patterns encoded, in which in this project, we aim to analyze the level of gene expression of specific tight junction proteins in relation to patients with differing levels of gastro-esophageal reflux disease symptoms. To perform RNA-sequencing, the DNA sequences acquired are transcribed into mRNA, which are then translated into proteins. By quantifying the amount of mRNA, we can interpret the level of each gene expression.\n",
    "\n",
    "In the cell below, I will write the theoretical process of coding for RNA-seq."
   ]
  },
  {
   "cell_type": "markdown",
   "metadata": {},
   "source": [
    "##### #Import and create a list of DNA sequences from database\n",
    "\n",
    "runs = ['ERD seq' , 'NERD seq', 'CONTROL seq']\n",
    "\n",
    "study = 'study'\n",
    "\n",
    "###### #Create for loop to append each sequence to new list\n",
    "sraQC = [ ]\n",
    "\n",
    "for x in runs:\n",
    "    \n",
    "    QC = sra.SRA(x, study)\n",
    "    if QC.download_fast(q):\n",
    "        sraQC.append(QC)\n",
    "        \n",
    "##### #Set parameters for quality control\n",
    "tgOptions = {\"--cores\": \"5\"}\n",
    "\n",
    "tg = qc.Trimgalore()\n",
    "\n",
    "##### #Perform quality control\n",
    "for QC in sraQC:\n",
    "    \n",
    "    QC.perform_qc(tg, **tgOpts)\n",
    "    \n",
    "##### #Set parameter for star function\n",
    "starParams = {'--outFilterType':'BySJout','--outSAMtype':'BAM SortedByCoordinate'}\n",
    "\n",
    "##### #Read alignment to determine which RNA seq match\n",
    "star = mapping.Star(index = 'index')\n",
    "\n",
    "##### #Transcript assembly\n",
    "st = assembly.Stringtie()\n",
    "\n",
    "##### #Create for loop to perform transcript assembly and read alignment\n",
    "for QC in sraQC:\n",
    "    \n",
    "    bam = star.perform_alignment(QC, **starParams)\n",
    "    st.perform_assembly(bam, reference_gtf = 'ref.gtf')"
   ]
  },
  {
   "cell_type": "markdown",
   "metadata": {},
   "source": [
    "### Plotting the Results"
   ]
  },
  {
   "cell_type": "markdown",
   "metadata": {},
   "source": [
    "In the code below, I transferred Table 4 data (https://bmcgastroenterol.biomedcentral.com/articles/10.1186/1471-230X-12-128) onto my Jupyter Notebook to organize the data prior to plotting the heatmap. \n",
    "\n",
    "Heatmaps are a data visualization technique using a color-coding system to represent different values. These 2D graphs are effective for comparing scores, magnitudes, and other values between a large number of subjects. In this project, the color bar represents the level of gene expression with the lightest color signifies the most gene expression at 0.2 and the darkest color signifies the least gene expression at 0. The y-axis is labeled according to the test group: ERD, NERD, or CONTROL. The x-axis is labeled according to the gene being expressed: claudin-1, claudin-2, occludin, ZO-1, ZO-2."
   ]
  },
  {
   "cell_type": "code",
   "execution_count": 20,
   "metadata": {},
   "outputs": [
    {
     "name": "stdout",
     "output_type": "stream",
     "text": [
      "   claudin-1  claudin-2  occludin    ZO-1   ZO-2\n",
      "0      0.078   0.000038     0.041  0.0060  0.011\n",
      "1      0.150   0.000200     0.060  0.0081  0.019\n",
      "2      0.200   0.000083     0.035  0.0077  0.021\n"
     ]
    }
   ],
   "source": [
    "# Transfer gene expression data\n",
    "claudin1 = [0.078, 0.15, 0.2]\n",
    "claudin2 = [0.000038, 0.0002, 0.000083]\n",
    "occludin = [0.041, 0.060, 0.035]\n",
    "zo1 = [0.006, 0.0081, 0.0077]\n",
    "zo2 = [0.011, 0.019, 0.021]\n",
    "\n",
    "# Create dictionary for gene expression data as Research\n",
    "research = {\"claudin-1\":claudin1,\"claudin-2\":claudin2,\"occludin\":occludin,\"ZO-1\":zo1,\"ZO-2\":zo2}\n",
    "\n",
    "# Import all packagaes needed\n",
    "import seaborn as sns\n",
    "import pandas as pd\n",
    "import numpy as np\n",
    "\n",
    "# Create DataFrame to organize Research dictionary\n",
    "print(pd.DataFrame(research))\n"
   ]
  },
  {
   "cell_type": "code",
   "execution_count": 21,
   "metadata": {},
   "outputs": [
    {
     "data": {
      "text/plain": [
       "<matplotlib.colors.ListedColormap at 0x11ea39eb0>"
      ]
     },
     "execution_count": 21,
     "metadata": {},
     "output_type": "execute_result"
    },
    {
     "data": {
      "image/png": "[encoded data removed]",
      "text/plain": [
       "<Figure size 432x288 with 2 Axes>"
      ]
     },
     "metadata": {
      "needs_background": "light"
     },
     "output_type": "display_data"
    }
   ],
   "source": [
    "# Create a dataset with appropriate gene label for each column\n",
    "CNE = pd.DataFrame(research, columns=[\"claudin-1\",\"claudin-2\",\"occludin\",\"ZO-1\",\"ZO-2\"])\n",
    "\n",
    "# Plot heatmap with set label for Y-Axis ticks\n",
    "sns.heatmap(CNE, yticklabels=[\"Control\", \"NERD\", \"ERD\"])\n",
    "sns.color_palette(\"crest\", as_cmap=True)"
   ]
  },
  {
   "cell_type": "markdown",
   "metadata": {},
   "source": [
    "### Analysis of the Results"
   ]
  },
  {
   "cell_type": "markdown",
   "metadata": {},
   "source": [
    "The plot above reveals the level of tight junction gene (Claudin-1,-2, Occludin, Zo-1, -2) expression between patients with erosive reflux disease, non-erosive reflux disease, and a healthy control group. According to the plot, the lighter color the cell on the matrix, the greater the gene expression, and vice versa. Claudin-1 gene expression demonstrates the greatest increase in gene expression associated with an increase in GERD symptoms---control 0.078, NERD 0.150, and ERD 0.200. ZO-2 also demonstrates an increase in expression with an increase in GERD symptoms---control 0.011, NERD 0.019, and ERD 0.021. The remaining tight junction proteins (Claudin-2, Occludin-2, and ZO-1) demonstrates no significant positive association, as shown on the plot with the lack of color gradient. Thus, these results support my hypothesis gastro-esophageal symptoms will more likely occur with Claudin-1 gene over expression."
   ]
  }
 ],
 "metadata": {
  "kernelspec": {
   "display_name": "Python 3",
   "language": "python",
   "name": "python3"
  },
  "language_info": {
   "codemirror_mode": {
    "name": "ipython",
    "version": 3
   },
   "file_extension": ".py",
   "mimetype": "text/x-python",
   "name": "python",
   "nbconvert_exporter": "python",
   "pygments_lexer": "ipython3",
   "version": "3.8.5"
  }
 },
 "nbformat": 4,
 "nbformat_minor": 4
}
